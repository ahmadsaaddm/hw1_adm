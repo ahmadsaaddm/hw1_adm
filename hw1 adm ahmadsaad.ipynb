{
 "cells": [
  {
   "cell_type": "code",
   "execution_count": 1,
   "outputs": [
    {
     "ename": "ValueError",
     "evalue": "invalid literal for int() with base 10: ''",
     "output_type": "error",
     "traceback": [
      "\u001B[1;31m---------------------------------------------------------------------------\u001B[0m",
      "\u001B[1;31mValueError\u001B[0m                                Traceback (most recent call last)",
      "Cell \u001B[1;32mIn[1], line 3\u001B[0m\n\u001B[0;32m      1\u001B[0m \u001B[38;5;66;03m#arithmetic operations\u001B[39;00m\n\u001B[0;32m      2\u001B[0m \u001B[38;5;28;01mif\u001B[39;00m \u001B[38;5;18m__name__\u001B[39m \u001B[38;5;241m==\u001B[39m \u001B[38;5;124m'\u001B[39m\u001B[38;5;124m__main__\u001B[39m\u001B[38;5;124m'\u001B[39m:\n\u001B[1;32m----> 3\u001B[0m     a \u001B[38;5;241m=\u001B[39m \u001B[38;5;28mint\u001B[39m(\u001B[38;5;28minput\u001B[39m())\n\u001B[0;32m      4\u001B[0m     b \u001B[38;5;241m=\u001B[39m \u001B[38;5;28mint\u001B[39m(\u001B[38;5;28minput\u001B[39m())\n\u001B[0;32m      5\u001B[0m     \u001B[38;5;28mprint\u001B[39m( a\u001B[38;5;241m+\u001B[39mb )\n",
      "\u001B[1;31mValueError\u001B[0m: invalid literal for int() with base 10: ''"
     ]
    }
   ],
   "source": [
    "\n",
    "#arithmetic operations\n",
    "if __name__ == '__main__':\n",
    "    a = int(input())\n",
    "    b = int(input())\n",
    "    print( a+b )\n",
    "    print(a-b)\n",
    "    print(a*b)\n"
   ],
   "metadata": {
    "collapsed": false,
    "ExecuteTime": {
     "end_time": "2023-10-15T11:19:14.684499500Z",
     "start_time": "2023-10-15T11:19:12.069957600Z"
    }
   },
   "id": "d3ddb9cf2cc2190"
  },
  {
   "cell_type": "code",
   "execution_count": null,
   "outputs": [],
   "source": [
    "#division\n",
    "if __name__ == '__main__':\n",
    "    a = int(input())\n",
    "    b = int(input())\n",
    "    print(a//b)\n",
    "    print(a/b)\n"
   ],
   "metadata": {
    "collapsed": false
   },
   "id": "2eee545c7095fc9f"
  },
  {
   "cell_type": "code",
   "execution_count": null,
   "outputs": [],
   "source": [
    "#loops\n",
    "if __name__ == '__main__':\n",
    "    n = int(input())\n",
    "    for i in range(n):\n",
    "        print(i**2)\n",
    "        \n",
    "    "
   ],
   "metadata": {
    "collapsed": false
   },
   "id": "ba99a28d80f92de"
  },
  {
   "cell_type": "code",
   "execution_count": null,
   "outputs": [],
   "source": [
    "#write a function leap year\n",
    "def is_leap(year):\n",
    "    if (year % 4 == 0 and year % 100 != 0) or (year % 400 == 0):\n",
    "        return True\n",
    "    else:\n",
    "        return False\n",
    "\n"
   ],
   "metadata": {
    "collapsed": false
   },
   "id": "d7baab81be5ee5d1"
  },
  {
   "cell_type": "code",
   "execution_count": null,
   "outputs": [],
   "source": [
    "#find runner up score\n",
    "if __name__ == '__main__':\n",
    "    n = int(input())\n",
    "    arr = list(map(int, input().split()))\n",
    "    arr2 = sorted(arr, reverse = True)\n",
    "\n",
    "\n",
    "\n",
    "# Find the runner-up score (the second-to-last element)\n",
    "runner_up_score = None\n",
    "for score in arr2:\n",
    "    if score < arr2[0]:\n",
    "        runner_up_score = score\n",
    "        break\n",
    "\n",
    "print(runner_up_score)\n"
   ],
   "metadata": {
    "collapsed": false
   },
   "id": "8e23d728a5a2bf3"
  },
  {
   "cell_type": "code",
   "execution_count": null,
   "outputs": [],
   "source": [
    "#python if else\n",
    "\n",
    "import math\n",
    "import os\n",
    "import random\n",
    "import re\n",
    "import sys\n",
    "\n",
    "\n",
    "\n",
    "if __name__ == '__main__':\n",
    "    n = int(input().strip())\n",
    "    \n",
    "    if n >20 and n%2 == 0 :\n",
    "        print('Not Weird')\n",
    "        \n",
    "    elif 2<n<5 and  n%2 == 0 :\n",
    "        print('Not Weird')\n",
    "    elif  6<n<20 and n%2 == 0:\n",
    "        print('Weird')\n",
    "    else:\n",
    "        print('Weird')\n"
   ],
   "metadata": {
    "collapsed": false
   },
   "id": "be2faff864956b99"
  },
  {
   "cell_type": "code",
   "execution_count": null,
   "outputs": [],
   "source": [
    "#print function\n",
    "if __name__ == '__main__':\n",
    "    \n",
    "    n = int(input())\n",
    "    a = []\n",
    "  \n",
    "    for i in range(1,n+1):\n",
    "        a.append(i)\n",
    "    b = map(str, a)\n",
    "    result = ''.join(b)\n",
    "\n",
    "    print(result)\n"
   ],
   "metadata": {
    "collapsed": false
   },
   "id": "13b2dd563f48bc38"
  },
  {
   "cell_type": "code",
   "execution_count": null,
   "outputs": [],
   "source": [
    "#mutations\n",
    "def mutate_string(string, position, character):\n",
    "    stringlist = list(string)\n",
    "    stringlist[position] = character\n",
    "    string = ''.join(stringlist)\n",
    "    \n",
    "    \n",
    "    return string\n"
   ],
   "metadata": {
    "collapsed": false
   },
   "id": "55e7251450d90e08"
  },
  {
   "cell_type": "code",
   "execution_count": null,
   "outputs": [],
   "source": [
    "#whats your name?\n",
    "\n",
    "def print_full_name(first, last):\n",
    "    # Write your code here\n",
    "    print(\"Hello \" + first  + \" \" + last+ \"!\" +\" \" 'You just delved into python.')\n",
    "    \n"
   ],
   "metadata": {
    "collapsed": false
   },
   "id": "296f0023a15c21a0"
  },
  {
   "cell_type": "code",
   "execution_count": null,
   "outputs": [],
   "source": [
    "#swapcase\n",
    "\n",
    "def swap_case(s):\n",
    "    k = ''\n",
    "    \n",
    "    for i in s:\n",
    "        if i.isupper() == True:\n",
    "            k += i.lower()\n",
    "           \n",
    "           \n",
    "        elif i.islower() == True:\n",
    "            k+=i.upper()\n",
    "        \n",
    "        else:\n",
    "            k += i\n",
    "    return k \n",
    "    \n"
   ],
   "metadata": {
    "collapsed": false
   },
   "id": "a62cbaf7aaad36b2"
  },
  {
   "cell_type": "code",
   "execution_count": null,
   "outputs": [],
   "source": [
    "#tuples\n",
    "if __name__ == '__main__':\n",
    "    n = int(input())\n",
    "    integer_list = map(int, input().split())\n",
    "    t = tuple(integer_list)\n",
    "      \n",
    "    print(hash(t))\n",
    "        \n"
   ],
   "metadata": {
    "collapsed": false
   },
   "id": "653942f2198e8110"
  },
  {
   "cell_type": "code",
   "execution_count": null,
   "outputs": [],
   "source": [
    "#list comprehenesion\n",
    "if __name__ == '__main__':\n",
    "    x = int(input())\n",
    "    y = int(input())\n",
    "    z = int(input())\n",
    "    n = int(input())\n",
    "    list = [[i,j,k] for i in range (x+1)  for j in range(y+1) for k in range(z+1) if i+j+k != n]\n",
    "    print(list)\n",
    "    \n"
   ],
   "metadata": {
    "collapsed": false
   },
   "id": "8a181f725e68e401"
  },
  {
   "cell_type": "code",
   "execution_count": null,
   "outputs": [],
   "source": [
    "#find the percentage\n",
    "if __name__ == '__main__':\n",
    "    n = int(input())\n",
    "    student_marks = {}\n",
    "    i = 0\n",
    "    for _ in range(n):\n",
    "        name, *line = input().split()\n",
    "        scores = list(map(float, line))\n",
    "        student_marks[name] = scores\n",
    "        \n",
    "    query_name = input()\n",
    "    avg = float(sum(student_marks[query_name])/3)\n",
    "    print(\"{:.2f}\".format(avg))\n",
    "    "
   ],
   "metadata": {
    "collapsed": false
   },
   "id": "fe9ec8a903a3f991"
  },
  {
   "cell_type": "code",
   "execution_count": null,
   "outputs": [],
   "source": [
    "#nested lists\n",
    "if __name__ == '__main__':\n",
    "    student_names = []\n",
    "    student_scores = []\n",
    "    scores_dict = {}\n",
    "    new_list = []\n",
    "    for _ in range(int(input())):\n",
    "        name = input()\n",
    "        score = float(input())\n",
    "        student_names.append(name)\n",
    "        student_scores.append(score)\n",
    "    for i in range(len(student_names)):\n",
    "        scores_dict[student_names[i]] = student_scores[i]\n",
    "    for x in scores_dict:\n",
    "        new_list.append(scores_dict[x])\n",
    "    j = list(set(sorted(new_list)))\n",
    "    j.remove(j[0])\n",
    "    target_value = j[0]\n",
    "    found_key= []\n",
    "    for name, score  in scores_dict.items():\n",
    "        if score == target_value :\n",
    "            found_key.append(name)\n",
    "    k = sorted(found_key)\n",
    "    for i in range(len(found_key)):\n",
    "        print(k[i])\n",
    "             \n",
    "        "
   ],
   "metadata": {
    "collapsed": false
   },
   "id": "335659ff3bd16d7c"
  },
  {
   "cell_type": "code",
   "execution_count": null,
   "outputs": [],
   "source": [
    "#designerdoormat\n",
    "import math\n",
    "N, M = map(int, input().split()) \n",
    "\n",
    "for i in range(N//2):\n",
    "    j = 2*i + 1\n",
    "    \n",
    "    print(  ('.|.'*j).center(M,\"-\") )\n",
    "print(('WELCOME'.center(M,\"-\")))\n",
    "\n",
    "for i in reversed(range(N//2)):\n",
    "    k = 2*i + 1\n",
    "    print(('.|.'*k).center(M,\"-\"))   \n",
    "        \n",
    "    \n",
    "    \n"
   ],
   "metadata": {
    "collapsed": false
   },
   "id": "cb1221e2ce668149"
  },
  {
   "cell_type": "code",
   "execution_count": null,
   "outputs": [],
   "source": [
    "#find a string\n",
    "    def count_substring(string, sub_string):\n",
    "    counter = 0\n",
    "    start = 0\n",
    "    while start < len(string):\n",
    "        start = string.find(sub_string, start)\n",
    "        if start == -1:\n",
    "            break\n",
    "        counter += 1\n",
    "        start += 1\n",
    "    return counter\n",
    "\n"
   ],
   "metadata": {
    "collapsed": false
   },
   "id": "6121f9ad016ebe71"
  },
  {
   "cell_type": "code",
   "execution_count": null,
   "outputs": [],
   "source": [
    "#string formatting\n",
    "def print_formatted(number):\n",
    "    w = len(bin(number)[2:])\n",
    "    for i in range(1,n+1):\n",
    "        \n",
    "        deci = str(i)\n",
    "        octa = oct(i)[2:]\n",
    "        hexa = hex(i)[2:].upper()\n",
    "        bina = bin(i)[2:]\n",
    "        print(deci.rjust(w),octa.rjust(w),hexa.rjust(w),bina.rjust(w))\n",
    "        "
   ],
   "metadata": {
    "collapsed": false
   },
   "id": "11e7de5f14ec0309"
  },
  {
   "cell_type": "code",
   "execution_count": null,
   "outputs": [],
   "source": [
    "#string validators\n",
    "if __name__ == '__main__':\n",
    "    s = input()\n",
    "    isalphanumeric = any(character.isalnum() for character in s)\n",
    "    isalphabetical = any(character.isalpha() for character in s)\n",
    "    isdigits = any(character.isdigit() for character in s)\n",
    "    islowercase = any(character.islower() for character in s)\n",
    "    isuppercase = any(character.isupper() for character in s)\n",
    "\n",
    "    print(isalphanumeric)\n",
    "    print(isalphabetical)\n",
    "    print(isdigits)\n",
    "    print(islowercase)\n",
    "    print(isuppercase)\n"
   ],
   "metadata": {
    "collapsed": false
   },
   "id": "b73e98b7cd9c6a20"
  },
  {
   "cell_type": "code",
   "execution_count": null,
   "outputs": [],
   "source": [
    "#textwrap\n",
    "\n",
    "\n",
    "def wrap(string, max_width):\n",
    "    \n",
    "   \n",
    "    stringlist = []\n",
    "    for i in range(0, len(string), max_width):\n",
    "        smolstring = string[i:i+max_width]\n",
    "        stringlist.append(smolstring)\n",
    "\n",
    "    return '\\n'.join(stringlist)\n",
    "  \n",
    "\n"
   ],
   "metadata": {
    "collapsed": false
   },
   "id": "be3abbafc5a7893d"
  },
  {
   "cell_type": "code",
   "execution_count": null,
   "outputs": [],
   "source": [
    "#merge the tools\n",
    "def merge_the_tools(string, k):\n",
    "    \n",
    "    substrings = [string[i:i + k] for i in range(0, len(string), k)]\n",
    "    for substring in substrings:\n",
    "        char = ''\n",
    "        for character in substring:\n",
    "            if character not in char:\n",
    "                char += character\n",
    "        print(char)\n",
    "    # your code goes here\n"
   ],
   "metadata": {
    "collapsed": false
   },
   "id": "b0458d3719de6be5"
  },
  {
   "cell_type": "code",
   "execution_count": null,
   "outputs": [],
   "source": [
    "#alphabet  rangoli\n",
    "\n",
    "def print_rangoli(size):\n",
    "        import string\n",
    "    \n",
    "    \n",
    "  \n",
    "        alphabet = list(string.ascii_lowercase)\n",
    "    \n",
    "        c = alphabet[:n]\n",
    "        d = c[::-1]\n",
    "        u = []\n",
    "        m = []\n",
    "        for x in d:\n",
    "            m.append(x)\n",
    "        for z in range(len(m)):\n",
    "            b=[]\n",
    "            b.extend(m[:z])\n",
    "            b.append(m[z])\n",
    "            b.extend(m[:z][::-1])\n",
    "            u.append('-'.join(b).center(n*4-3,'-'))\n",
    "            z+=1   \n",
    "        for x in u:\n",
    "            print(x)\n",
    "        for z in u[-2::-1]:\n",
    "            print(z)    \n",
    "            \n",
    "        \n",
    "           \n",
    "    # your code goes here\n"
   ],
   "metadata": {
    "collapsed": false
   },
   "id": "96bdebd5c8e2ec3f"
  },
  {
   "cell_type": "code",
   "execution_count": null,
   "outputs": [],
   "source": [
    "#intro to sets\n",
    "def average(array):\n",
    "    array = set(array)\n",
    "    tot = sum( array)\n",
    "    counter = len(array)\n",
    "    z = tot/counter\n",
    "    return round(z,3)\n",
    "    # your code goes here\n",
    "\n"
   ],
   "metadata": {
    "collapsed": false
   },
   "id": "f1b61af6c3a13f3d"
  },
  {
   "cell_type": "code",
   "execution_count": null,
   "outputs": [],
   "source": [
    "#symmetric difference\n",
    "\n",
    "k1 = int(input())\n",
    "seta = set(map(int,input().split()))\n",
    "k2 = int(input())\n",
    "setb = set(map(int,input().split()))\n",
    "x = seta.symmetric_difference(setb)\n",
    "y = list(x)\n",
    "y.sort(reverse = False)\n",
    "for i in range(len(y)):\n",
    "    \n",
    "    print(y[i])\n"
   ],
   "metadata": {
    "collapsed": false
   },
   "id": "8598c037335a2560"
  },
  {
   "cell_type": "code",
   "execution_count": null,
   "outputs": [],
   "source": [
    "#no idea\n",
    "\n",
    "h = 0\n",
    "n, m = map(int, input().strip().split(' '))\n",
    "arr = list(map(int, input().strip().split(' ')))\n",
    "a =  set(map(int,input().split()))\n",
    "b = set(map(int,input().split()))\n",
    "\n",
    "\n",
    "for z in arr:\n",
    "    if z in b:\n",
    "        h -= 1\n",
    "    elif z in a:\n",
    "        h += 1\n",
    "\n",
    "print(h)\n",
    "    \n"
   ],
   "metadata": {
    "collapsed": false
   },
   "id": "860540a2ac0a49e4"
  },
  {
   "cell_type": "code",
   "execution_count": null,
   "outputs": [],
   "source": [
    "#set.add\n",
    "n = int(input())\n",
    "cset = set()\n",
    "for i in range(n):\n",
    "    cset.add(input())\n",
    "print(len(cset))\n",
    "        \n",
    "    \n"
   ],
   "metadata": {
    "collapsed": false
   },
   "id": "421e99ca984d7d7a"
  },
  {
   "cell_type": "code",
   "execution_count": null,
   "outputs": [],
   "source": [
    "# set discard remove pop\n",
    "n = int(input())\n",
    "s = set(map(int, input().split()))\n",
    "nbr = int(input())\n",
    "for i in range(nbr):\n",
    "    command = input().split()\n",
    "    if command[0] == \"remove\":\n",
    "        s.remove(int(command[1]))\n",
    "    elif command[0] == \"discard\":\n",
    "        s.discard(int(command[1]))\n",
    "    else:\n",
    "        s.pop()\n",
    "print(sum(s))\n"
   ],
   "metadata": {
    "collapsed": false
   },
   "id": "b92b093ea69ce57e"
  },
  {
   "cell_type": "code",
   "execution_count": null,
   "outputs": [],
   "source": [
    "#set intersection operation\n",
    "n_english = int(input())\n",
    "matr = set(map(int, input().split(\" \")))\n",
    "b_french = int(input())\n",
    "matr_b = set(map(int, input().split(\" \")))\n",
    "c = matr.intersection(matr_b)\n",
    "print(len(c))\n"
   ],
   "metadata": {
    "collapsed": false
   },
   "id": "4579beb1cdceef46"
  },
  {
   "cell_type": "code",
   "execution_count": null,
   "outputs": [],
   "source": [
    "# set difference operation\n",
    "n_english = int(input())\n",
    "matr = set(map(int, input().split(\" \")))\n",
    "b_french = int(input())\n",
    "matr_b = set(map(int, input().split(\" \")))\n",
    "c = matr.difference(matr_b)\n",
    "print(len(c))\n"
   ],
   "metadata": {
    "collapsed": false
   },
   "id": "d7034387be96fa14"
  },
  {
   "cell_type": "code",
   "execution_count": null,
   "outputs": [],
   "source": [
    "#set symmetric difference operation\n",
    "n_english = int(input())\n",
    "matr = set(map(int, input().split(\" \")))\n",
    "b_french = int(input())\n",
    "matr_b = set(map(int, input().split(\" \")))\n",
    "c = matr.symmetric_difference(matr_b)\n",
    "print(len(c))\n"
   ],
   "metadata": {
    "collapsed": false
   },
   "id": "5c165709071854cf"
  },
  {
   "cell_type": "code",
   "execution_count": null,
   "outputs": [],
   "source": [
    "#set mutations\n",
    "# Enter your code here. Read input from STDIN. Print output to STDOUT\n",
    "n = int(input())\n",
    "arr1 = set(map(int, input().split()))\n",
    "m = int(input())\n",
    "\n",
    "for i in range(m):\n",
    "    arr2 = input().split()\n",
    "    set2 = set(map(int, input().split()))\n",
    "    if arr2[0] == 'intersection_update':\n",
    "        arr1.intersection_update(set2)\n",
    "    elif arr2[0] == 'update':\n",
    "        arr1.update(set2)\n",
    "    elif arr2[0] == 'symmetric_difference_update':\n",
    "        arr1.symmetric_difference_update(set2)\n",
    "    elif arr2[0] == 'difference_update':\n",
    "        arr1.difference_update(set2)\n",
    "print(sum(arr1))\n"
   ],
   "metadata": {
    "collapsed": false
   },
   "id": "ebb9faba436d17c2"
  },
  {
   "cell_type": "markdown",
   "source": [],
   "metadata": {
    "collapsed": false
   },
   "id": "66e0a1b09d3e36a4"
  },
  {
   "cell_type": "code",
   "execution_count": null,
   "outputs": [],
   "source": [
    "#exceptions\n",
    "n = int(input())\n",
    "\n",
    "for i in range(n):\n",
    "    try:\n",
    "        a, b = map(int, input().split())\n",
    "        print(a//b)\n",
    "    except Exception as e:\n",
    "        print(\"Error Code:\",e)\n"
   ],
   "metadata": {
    "collapsed": false
   },
   "id": "dd52e9693ec53a1d"
  },
  {
   "cell_type": "code",
   "execution_count": null,
   "outputs": [],
   "source": [
    "#zipped\n",
    "\n",
    "numberofstudents, numberofsubjects = map(int, input().split())\n",
    "studentlist = []\n",
    "grade = []\n",
    "studentsngrades = [ ] \n",
    "for i in range(1, numberofstudents + 1):\n",
    "    studentlist.append(i)\n",
    "\n",
    "for _ in range(numberofsubjects):\n",
    "    grade.append(list(map(float, input().split())))\n",
    "    \n",
    "        \n",
    "\n",
    "for student_grades in list(zip(*grade)):\n",
    "    print(sum(student_grades)/ len(student_grades))\n"
   ],
   "metadata": {
    "collapsed": false
   },
   "id": "19e209d3d00e1908"
  },
  {
   "cell_type": "code",
   "execution_count": null,
   "outputs": [],
   "source": [
    "#input\n",
    "\n",
    "x,k = map(int , input().split())\n",
    "print(eval(input()) == k)\n"
   ],
   "metadata": {
    "collapsed": false
   },
   "id": "79ee84e5c0e6582b"
  },
  {
   "cell_type": "code",
   "execution_count": null,
   "outputs": [],
   "source": [
    "#python evaluation\n",
    "n = input()\n",
    "eval(n)\n"
   ],
   "metadata": {
    "collapsed": false
   },
   "id": "6ce1d968f4f722a7"
  },
  {
   "cell_type": "code",
   "execution_count": null,
   "outputs": [],
   "source": [
    "#defaultdict tutorial\n",
    "\n",
    "from collections import defaultdict\n",
    "\n",
    "size = list(map(int, input().split()))\n",
    "sizea = size[0]\n",
    "sizeb = size[1]\n",
    "a = []\n",
    "b = []\n",
    "defdicta = defaultdict(list)\n",
    "\n",
    "\n",
    "for i in range(sizea):\n",
    "    n = input()\n",
    "    defdicta[n].append(i+1)\n",
    "output = []\n",
    "    \n",
    "for j in range(sizeb):\n",
    "    m = input()\n",
    "    \n",
    "    if m in defdicta:\n",
    "        output.append(\" \".join(map(str, defdicta[m])))\n",
    "    else:\n",
    "        output.append(\"-1\")\n",
    "\n",
    "        \n",
    "print(\"\\n\".join(output))\n"
   ],
   "metadata": {
    "collapsed": false
   },
   "id": "39ba81174a6b51ab"
  },
  {
   "cell_type": "code",
   "execution_count": null,
   "outputs": [],
   "source": [
    "#collections.namedtuple()\n",
    "\n",
    "from collections import namedtuple\n",
    "n = int(input())\n",
    "columnnames = input().split()\n",
    "total_marks = 0\n",
    "\n",
    "for _ in range(n):\n",
    "    Student = namedtuple('Student',columnnames)\n",
    "    MARKS, CLASS, NAME, ID = input().split()\n",
    "    student = Student(MARKS, CLASS, NAME, ID)\n",
    "    total_marks += int(student.MARKS)\n",
    "\n",
    "average_marks = total_marks / n\n",
    "print(average_marks)\n"
   ],
   "metadata": {
    "collapsed": false
   },
   "id": "8e4c56d56fc52a99"
  },
  {
   "cell_type": "code",
   "execution_count": null,
   "outputs": [],
   "source": [
    "#collections ordered dict\n",
    "\n",
    "from collections import OrderedDict\n",
    "n = int(input())\n",
    "dicto = OrderedDict()\n",
    "counter = 0 \n",
    "for _ in range(n):\n",
    "    data = input().split()\n",
    "    key = \" \".join(data[:-1])\n",
    "    price = int(data[-1])\n",
    "    total_price = dicto.get(key,0) + price\n",
    "    dicto[key] = total_price \n",
    "for key, price in dicto.items():   \n",
    "    print(key,price)\n",
    "            \n",
    "            \n",
    "    \n"
   ],
   "metadata": {
    "collapsed": false
   },
   "id": "c2e32ca10287b02b"
  },
  {
   "cell_type": "code",
   "execution_count": null,
   "outputs": [],
   "source": [
    "#collections deque\n",
    "\n",
    "from collections import deque\n",
    "n = int(input())\n",
    "d = deque()\n",
    "for _ in range(n):\n",
    "    operations = input().split()\n",
    "    \n",
    "    if operations[0]  == 'append':\n",
    "        d.append(operations[1])\n",
    "    elif operations[0] == 'appendleft':\n",
    "        d.appendleft(operations[1])\n",
    "  \n",
    "    elif operations[0] == 'popleft':\n",
    "        d.popleft()\n",
    "    elif operations[0] == 'pop':\n",
    "        d.pop()\n",
    "        \n",
    "print(*d)  \n",
    "        \n",
    "    \n"
   ],
   "metadata": {
    "collapsed": false
   },
   "id": "ab1e054927354e64"
  },
  {
   "cell_type": "code",
   "execution_count": null,
   "outputs": [],
   "source": [
    "#word order\n",
    "\n",
    "n = int(input())\n",
    "wordlist = []\n",
    "counter = {}\n",
    "for _ in range(n):\n",
    "    word = input()\n",
    "    wordlist.append(word)\n",
    "    if word in counter:\n",
    "        counter[word] += 1 \n",
    "    else:\n",
    "        counter[word] = 1\n",
    "print(len(counter))\n",
    "print(' '.join([str(counter[word]) for word in counter]))\n",
    "    \n"
   ],
   "metadata": {
    "collapsed": false
   },
   "id": "50db1740f214b558"
  },
  {
   "cell_type": "code",
   "execution_count": null,
   "outputs": [],
   "source": [
    "#captains room\n",
    "from collections import Counter\n",
    "k = int(input())\n",
    "ok = map(int, input().split(\" \"))\n",
    "counting_list = Counter(ok)\n",
    "\n",
    "for room, counting in counting_list.items():\n",
    "    if counting < k:\n",
    "        print(room)\n",
    "\n"
   ],
   "metadata": {
    "collapsed": false
   },
   "id": "232bd381307aeb81"
  },
  {
   "cell_type": "code",
   "execution_count": null,
   "outputs": [],
   "source": [
    "#check subset\n",
    "numtest = int(input())\n",
    "for _ in range(numtest):\n",
    "    numelts_a = int(input())\n",
    "    a = set(map(int, input().split()))\n",
    "    numelts_b = int(input())\n",
    "    b = set(map(int, input().split()))\n",
    "    print(a.issubset(b))\n",
    "        \n",
    "    \n"
   ],
   "metadata": {
    "collapsed": false
   },
   "id": "cd16e1cd5a008594"
  },
  {
   "cell_type": "code",
   "execution_count": null,
   "outputs": [],
   "source": [
    "#check strict subset\n",
    "a = set(map(int, input().split(\" \")))\n",
    "num_sets = int(input())\n",
    "results = []\n",
    "for _ in range(num_sets):\n",
    "    b = set(map(int, input().split(\" \")))\n",
    "    results.append(a.issuperset(b))\n",
    "final_result = all(results)\n",
    "print(final_result)\n"
   ],
   "metadata": {
    "collapsed": false
   },
   "id": "898d7a4b324f60f4"
  },
  {
   "cell_type": "code",
   "execution_count": null,
   "outputs": [],
   "source": [
    "#collections counter\n",
    "\n",
    "from collections import Counter\n",
    "\n",
    "n_shoes = int(input())\n",
    "shoe_sizes = list(map(int, input().split()))\n",
    "n_customers = int(input())\n",
    "shoeinventory = Counter(shoe_sizes)\n",
    "\n",
    "profit = 0\n",
    "\n",
    "for _ in range(n_customers):\n",
    "    size, price = map(int, input().split())\n",
    "    \n",
    "    if shoeinventory[size] > 0:\n",
    "        profit += price\n",
    "        shoeinventory[size] -= 1\n",
    "\n",
    "print(profit)\n"
   ],
   "metadata": {
    "collapsed": false
   },
   "id": "d045964c27c04434"
  },
  {
   "cell_type": "code",
   "execution_count": null,
   "outputs": [],
   "source": [
    "#athletes sort\n",
    "\n",
    "import math\n",
    "import os\n",
    "import random\n",
    "import re\n",
    "import sys\n",
    "\n",
    "\n",
    "\n",
    "if __name__ == '__main__':\n",
    "    nm = input().split()\n",
    "\n",
    "    n = int(nm[0])\n",
    "\n",
    "    m = int(nm[1])\n",
    "\n",
    "    arr = []\n",
    "\n",
    "    for _ in range(n):\n",
    "        arr.append(list(map(int, input().rstrip().split())))\n",
    "\n",
    "    k = int(input())\n",
    "    sorted_arr = sorted(arr, key = lambda x : x[k])\n",
    "    for row in sorted_arr:\n",
    "        print(' '.join(str(y) for y in row))\n"
   ],
   "metadata": {
    "collapsed": false
   },
   "id": "5deb3ef7cb239cf9"
  },
  {
   "cell_type": "code",
   "execution_count": null,
   "outputs": [],
   "source": [
    "#piling up\n",
    "\n",
    "from collections import deque\n",
    "\n",
    "numoflists = int(input())\n",
    "for _ in range(numoflists):\n",
    "    sizelist1 = int(input())\n",
    "    maxvalue = 2**31\n",
    "    list1 = deque(list(map(int, input().split())))\n",
    "    \n",
    "    while list1:\n",
    "        if list1[0] >= list1[-1] and list1[0] <= maxvalue:\n",
    "            maxvalue = list1.popleft()\n",
    "        elif list1[-1] <= maxvalue:\n",
    "            maxvalue = list1.pop()\n",
    "        else:\n",
    "            print('No')\n",
    "            break\n",
    "    \n",
    "    if not list1:\n",
    "        print('Yes')\n",
    "        \n"
   ],
   "metadata": {
    "collapsed": false
   },
   "id": "81f16d93c32092d0"
  },
  {
   "cell_type": "code",
   "execution_count": null,
   "outputs": [],
   "source": [
    "#calendar module\n",
    "import calendar\n",
    "m,d,y = list(map(int, input().split()))\n",
    "ans = calendar.weekday(y,m,d)\n",
    "print(calendar.day_name[ans].upper())\n"
   ],
   "metadata": {
    "collapsed": false
   },
   "id": "1db191ed3a93aa99"
  },
  {
   "cell_type": "code",
   "execution_count": null,
   "outputs": [],
   "source": [
    "#time delta\n",
    "from datetime import datetime\n",
    "import math\n",
    "import os\n",
    "import random\n",
    "import re\n",
    "import sys\n",
    "\n",
    "def time_delta(t1, t2):\n",
    "    a = datetime.strptime(t1, \"%a %d %b %Y %H:%M:%S %z\")\n",
    "    b = datetime.strptime(t2, \"%a %d %b %Y %H:%M:%S %z\")\n",
    "\n",
    "    return str(int(abs((a - b).total_seconds())))\n"
   ],
   "metadata": {
    "collapsed": false
   },
   "id": "a79e1a653640f33f"
  },
  {
   "cell_type": "code",
   "execution_count": null,
   "outputs": [],
   "source": [
    "#any or all\n",
    "N = int(input())\n",
    "numlist = list(map(int, input().split()))\n",
    "print(all([number > 0 for number in numlist]) and any([str(number) == str(number)[::-1] for number in numlist]))\n",
    "    "
   ],
   "metadata": {
    "collapsed": false
   },
   "id": "83cb7a1ff93afb55"
  },
  {
   "cell_type": "code",
   "execution_count": null,
   "outputs": [],
   "source": [
    "#ginorts\n",
    "\n",
    "s = input()\n",
    "lowercase = []\n",
    "uppercase = []\n",
    "odd = []\n",
    "even = []\n",
    "for i in range(len(s)):\n",
    "\n",
    "    if s[i].islower():\n",
    "        lowercase.append(s[i])\n",
    "    elif s[i].isupper():\n",
    "        uppercase.append(s[i])\n",
    "    elif s[i].isdigit():\n",
    "        if int(s[i]) % 2 == 0:\n",
    "            even.append(s[i])\n",
    "        else:\n",
    "            odd.append(s[i])\n",
    "lowercase.sort()\n",
    "uppercase.sort()\n",
    "even.sort()\n",
    "odd.sort()\n",
    "print(''.join(lowercase+uppercase+ odd + even))\n"
   ],
   "metadata": {
    "collapsed": false
   },
   "id": "7d40dbc92d21cd63"
  },
  {
   "cell_type": "code",
   "execution_count": null,
   "outputs": [],
   "source": [
    "#map and lambda function\n",
    "cube = lambda x: x**3 \n",
    "arr = []\n",
    "\n",
    "def fibonacci(n):\n",
    "    for i in range(0,n):\n",
    "        if i< 2:\n",
    "            arr.append(i)\n",
    "        else:\n",
    "            arr.append(arr[-1]+arr[-2])\n",
    "        \n",
    "        \n",
    "    return arr\n",
    "    # return a list of fibonacci numbers\n",
    "\n"
   ],
   "metadata": {
    "collapsed": false
   },
   "id": "170eb27ec942909c"
  },
  {
   "cell_type": "code",
   "execution_count": null,
   "outputs": [],
   "source": [
    "#detect floating pt\n",
    "from re import match, compile\n",
    "pattern = compile('^[-+]?[0-9]*\\.[0-9]+$')\n",
    "for _ in range(int(input())):\n",
    "    print(bool(pattern.match(input())))\n"
   ],
   "metadata": {
    "collapsed": false
   },
   "id": "4112970f2bcefb40"
  },
  {
   "cell_type": "code",
   "execution_count": null,
   "outputs": [],
   "source": [
    "#re.split()\n",
    "import re\n",
    "\n",
    "\n",
    "regex_pattern = r'[,.]'\n",
    "\n"
   ],
   "metadata": {
    "collapsed": false
   },
   "id": "8c5d7bda9211a876"
  },
  {
   "cell_type": "code",
   "execution_count": null,
   "outputs": [],
   "source": [
    "#RE finall and Finditer\n",
    "\n",
    "s = input()\n",
    "lst = re.findall(r'(?<=[QWRTYPSDFGHJKLZXCVBNMqwrtypsdfghjklzxcvbnm])[aeiouAEIOU]{2,}(?=[QWRTYPSDFGHJKLZXCVBNMqwrtypsdfghjklzxcvbnm])', s)\n",
    "\n",
    "if len(lst) > 0:\n",
    "    for element in lst:\n",
    "        print(element)\n",
    "else:\n",
    "    print(-1)"
   ],
   "metadata": {
    "collapsed": false
   },
   "id": "e5179fe5d88faff9"
  },
  {
   "cell_type": "markdown",
   "source": [],
   "metadata": {
    "collapsed": false
   },
   "id": "808a9dfcc0f06132"
  },
  {
   "cell_type": "code",
   "execution_count": null,
   "outputs": [],
   "source": [
    "#group groups groupdict\n",
    "\n",
    "import re\n",
    "srch = re.search(r'([a-zA-Z0-9])\\1', input().strip())\n",
    "print(srch.group(1) if srch else -1)\n"
   ],
   "metadata": {
    "collapsed": false
   },
   "id": "630914750becd24e"
  },
  {
   "cell_type": "code",
   "execution_count": null,
   "outputs": [],
   "source": [
    "#RE.START RE.END\n",
    "import re\n",
    "\n",
    "S = input()\n",
    "k = input()\n",
    "pattern = re.escape(k)\n",
    "matches = re.finditer(pattern, S)\n",
    "\n",
    "matching = False\n",
    "for match in matches:\n",
    "    anymatch = True\n",
    "    print((match.start(), match.end() - 1))\n",
    "\n",
    "if not matching:\n",
    "    print((-1, -1))"
   ],
   "metadata": {
    "collapsed": false
   },
   "id": "2b21474f9a595499"
  },
  {
   "cell_type": "code",
   "execution_count": null,
   "outputs": [],
   "source": [
    "# xml1 find score\n",
    "\n",
    "\n",
    "def get_attr_number(node):\n",
    "    counter = len(node.attrib)\n",
    "    \n",
    "    for child in node:\n",
    "        \n",
    "        counter += len(child.attrib)\n",
    "        for subchild in child:\n",
    "            counter += len(subchild.attrib)\n",
    "            \n",
    "    return counter "
   ],
   "metadata": {
    "collapsed": false
   },
   "id": "754f0b0d4b8889e3"
  },
  {
   "cell_type": "code",
   "execution_count": null,
   "outputs": [],
   "source": [
    "#xml2 max depth\n",
    "\n",
    "\n",
    "maxdepth = 0\n",
    "\n",
    "\n",
    "\n",
    "\n",
    "def depth(elem, level=1):\n",
    "    global maxdepth\n",
    "    if level == maxdepth:\n",
    "        maxdepth += 1\n",
    "    for child in elem:\n",
    "        depth(child, level + 1)\n",
    "\n"
   ],
   "metadata": {
    "collapsed": false
   },
   "id": "637c82d28a5fd267"
  },
  {
   "cell_type": "code",
   "execution_count": null,
   "outputs": [],
   "source": [
    "#transpose and flatten\n",
    "# Enter your code here. Read input from STDIN. Print output to STDOUT\n",
    "import numpy as np\n",
    "l1 = input().split(\" \")\n",
    "n = int(l1[0])\n",
    "m = int(l1[1])\n",
    "arr = []\n",
    "for _ in range(n):\n",
    "    line = list(map(int,input().split(\" \")))\n",
    "    arr.append(line)\n",
    "arr = np.array(arr)\n",
    "transposed = np.transpose(arr)\n",
    "flat = arr.flatten()\n",
    "print(transposed)\n",
    "print(flat)\n",
    "    \n"
   ],
   "metadata": {
    "collapsed": false
   },
   "id": "47cb239d1032caf2"
  },
  {
   "cell_type": "code",
   "execution_count": null,
   "outputs": [],
   "source": [
    "#shape and reshape\n",
    "# Enter your code here. Read input from STDIN. Print output to STDOUT\n",
    "import numpy as np\n",
    "list1 = list(map(int,input().split()))\n",
    "list2 = np.array(list1)\n",
    "print(np.reshape(list1,(3,3)))\n"
   ],
   "metadata": {
    "collapsed": false
   },
   "id": "733fd8e4ee73eab0"
  },
  {
   "cell_type": "code",
   "execution_count": null,
   "outputs": [],
   "source": [
    "#arrays\n",
    "\n",
    "def arrays(arr):\n",
    "    revlist = []\n",
    "    for i in reversed(range(len(arr))):\n",
    "        revlist.append(arr[i])\n",
    "    rev2 = numpy.array(revlist,float)\n",
    "    return rev2\n",
    "    # complete this function\n",
    "    # use numpy.array\n",
    "\n"
   ],
   "metadata": {
    "collapsed": false
   },
   "id": "55dc6154814469a7"
  },
  {
   "cell_type": "code",
   "execution_count": null,
   "outputs": [],
   "source": [
    "#standardize mobile numbers by decorators\n",
    "def wrapper(f):\n",
    "    def fun(l):\n",
    "        newlist = []\n",
    "        for number in l:\n",
    "            # Remove any spaces and convert to a standard format\n",
    "            formatted_number = '+91 ' + number[-10:-5] + ' ' + number[-5:]\n",
    "            newlist.append(formatted_number)\n",
    "\n",
    "        f(newlist)\n",
    "    return  fun"
   ],
   "metadata": {
    "collapsed": false
   },
   "id": "62102905526edb0a"
  },
  {
   "cell_type": "code",
   "execution_count": null,
   "outputs": [],
   "source": [
    "#floor ciel and rint\n",
    "import numpy\n",
    "\n",
    "numpy.set_printoptions(legacy='1.13')\n",
    "ar1 = list(map(float,input().split()))\n",
    "arr = numpy.array(ar1)\n",
    "print(numpy.floor(arr))\n",
    "print(numpy.ceil(arr))\n",
    "print(numpy.rint(arr))\n"
   ],
   "metadata": {
    "collapsed": false
   },
   "id": "92db945a3fb42c26"
  },
  {
   "cell_type": "code",
   "execution_count": null,
   "outputs": [],
   "source": [
    "#array mathematics\n",
    "import numpy as np\n",
    "n, m = map(int, input().split())\n",
    "\n",
    "a = []\n",
    "for _ in range(n):\n",
    "    l = list(map(int, input().split(\" \")))\n",
    "    a.append(l)\n",
    "\n",
    "b = []\n",
    "for _ in range(n):\n",
    "    l1 = list(map(int, input().split(\" \")))\n",
    "    b.append(l1)\n",
    "\n",
    "a = np.array(a)\n",
    "b = np.array(b)\n",
    "\n",
    "print(a + b)\n",
    "print(a - b)\n",
    "print(a * b)\n",
    "print(a // b)\n",
    "print(a % b)\n",
    "print(np.power(a, b))\n",
    "\n"
   ],
   "metadata": {
    "collapsed": false
   },
   "id": "ef57418fc150f27a"
  },
  {
   "cell_type": "code",
   "execution_count": null,
   "outputs": [],
   "source": [
    "#zeroes and ones\n",
    "import numpy as np\n",
    "\n",
    "l = list(map(int, input().split()))\n",
    "for _ in range(len(l)):\n",
    "    j = np.zeros(l, dtype = int)\n",
    "    i = np.ones(l, dtype = int)\n",
    "\n",
    "print(j)\n",
    "print(i)\n"
   ],
   "metadata": {
    "collapsed": false
   },
   "id": "d1dc4aeef34beccb"
  },
  {
   "cell_type": "code",
   "execution_count": null,
   "outputs": [],
   "source": [
    "#eye and identity\n",
    "# Enter your code here. Read input from STDIN. Print output to STDOUT\n",
    "import numpy as np\n",
    "np.set_printoptions(legacy = '1.13')\n",
    "n, m = map(int, input().split(\" \"))\n",
    "k = 0\n",
    "ok = np.eye(n, m, k )\n",
    "print(ok)\n"
   ],
   "metadata": {
    "collapsed": false
   },
   "id": "1a3bcfb110d955e7"
  },
  {
   "cell_type": "code",
   "execution_count": null,
   "outputs": [],
   "source": [
    "#sum and product\n",
    "import numpy\n",
    "\n",
    "n,m = map(int,input().split(\" \"))\n",
    "l1 = []\n",
    "for _ in range(n):\n",
    "    l = list(map(int,input().split(\" \")))\n",
    "    l1.append(l)\n",
    "    \n",
    "l1 = numpy.array(l1)\n",
    "x = numpy.sum(l1,axis = 0)\n",
    "result = 1\n",
    "\n",
    "for num in x:\n",
    "   \n",
    "    result *= num\n",
    "print(result)\n",
    "\n",
    "\n",
    "\n",
    "\n",
    "\n",
    "    \n",
    "    \n",
    "\n",
    "\n"
   ],
   "metadata": {
    "collapsed": false
   },
   "id": "2778ea7626665b5f"
  },
  {
   "cell_type": "code",
   "execution_count": null,
   "outputs": [],
   "source": [
    "#min and max\\\n",
    "import numpy\n",
    "\n",
    "n,m = map(int,input().split(\" \"))\n",
    "l1 = []\n",
    "for _ in range(n):\n",
    "    \n",
    "    l = list(map(int,input().split()))\n",
    "    l1.append(l)\n",
    "l1 = numpy.array(l1)\n",
    "z = numpy.min(l1,axis = 1)\n",
    "\n",
    "print(max(z))\n"
   ],
   "metadata": {
    "collapsed": false
   },
   "id": "c52ea91a2a3f6378"
  },
  {
   "cell_type": "code",
   "execution_count": null,
   "outputs": [],
   "source": [
    "#mean var and std\n",
    "to STDOUT\n",
    "import numpy\n",
    "l = []\n",
    "n,m = map(int, input().split(\" \"))\n",
    "for _ in range(n):\n",
    "    l1 = list(map(int, input().split()))\n",
    "    l.append(l1)\n",
    "l = numpy.array(l)\n",
    "print(numpy.mean(l, axis = 1))\n",
    "\n",
    "print(numpy.var(l,axis = 0))\n",
    "print(round(numpy.std(l,axis = None),11))\n"
   ],
   "metadata": {
    "collapsed": false
   },
   "id": "a086bfe1d060c2dc"
  },
  {
   "cell_type": "code",
   "execution_count": null,
   "outputs": [],
   "source": [
    "#dot and cross\n",
    "import numpy\n",
    "\n",
    "n = int(input())\n",
    "l1 = []\n",
    "for _ in range(n):\n",
    "    l = list(map(int,input().split(\" \")))\n",
    "    l1.append(l)\n",
    "l1 = numpy.array(l1)\n",
    "l2 = []\n",
    "for _ in range(n):\n",
    "    li = list(map(int,input().split(\" \")))\n",
    "    l2.append(li)\n",
    "l2 = numpy.array(l2)\n",
    "print(numpy.dot(l1,l2))\n",
    "\n",
    "    \n",
    "\n"
   ],
   "metadata": {
    "collapsed": false
   },
   "id": "f30bf487d8f833f7"
  },
  {
   "cell_type": "code",
   "execution_count": null,
   "outputs": [],
   "source": [
    "#linear algebra\n",
    "import numpy\n",
    "\n",
    "n = int(input())\n",
    "l1 = []\n",
    "for _ in range(n):\n",
    "    l = list(map(float,input().split(\" \")))\n",
    "    l1.append(l)\n",
    "l1 = numpy.array(l1)\n",
    "print(round(float(numpy.linalg.det(l1)),10))\n"
   ],
   "metadata": {
    "collapsed": false
   },
   "id": "5c7f5410e0161ced"
  },
  {
   "cell_type": "code",
   "execution_count": null,
   "outputs": [],
   "source": [
    "#polynomials\n",
    "import numpy\n",
    "\n",
    "p = list(map(float,input().split(\" \")))\n",
    "x = float(input())\n",
    "poly = numpy.array(p)\n",
    "print(numpy.polyval(p,x))\n",
    "\n"
   ],
   "metadata": {
    "collapsed": false
   },
   "id": "2f611a0badf0ca93"
  },
  {
   "cell_type": "code",
   "execution_count": null,
   "outputs": [],
   "source": [
    "#inner and outer\n",
    "import numpy\n",
    "\n",
    "a = list(map(int,input().split(\" \")))\n",
    "\n",
    "b = list(map(int,input().split(\" \")))\n",
    "a1 = numpy.array(a)\n",
    "a2 = numpy.array(b)\n",
    "print(numpy.inner(a1,a2))\n",
    "print(numpy.outer(a1,a2))\n",
    "\n"
   ],
   "metadata": {
    "collapsed": false
   },
   "id": "98d266e84b953953"
  },
  {
   "cell_type": "code",
   "execution_count": null,
   "outputs": [],
   "source": [
    "# birthday cake candles\n",
    "\n",
    "\n",
    "import math\n",
    "import os\n",
    "import random\n",
    "import re\n",
    "import sys\n",
    "\n",
    "#\n",
    "# Complete the 'birthdayCakeCandles' function below.\n",
    "#\n",
    "# The function is expected to return an INTEGER.\n",
    "# The function accepts INTEGER_ARRAY candles as parameter.\n",
    "#\n",
    "\n",
    "def birthdayCakeCandles(candles):\n",
    "\n",
    "    count = candles.count(max(candles))\n",
    "    return count\n",
    "    # Write your code here\n",
    "\n",
    "if __name__ == '__main__':\n",
    "    fptr = open(os.environ['OUTPUT_PATH'], 'w')\n",
    "\n",
    "    candles_count = int(input().strip())\n",
    "\n",
    "    candles = list(map(int, input().rstrip().split()))\n",
    "\n",
    "    result = birthdayCakeCandles(candles)\n",
    "\n",
    "    fptr.write(str(result) + '\\n')\n",
    "\n",
    "    fptr.close()\n"
   ],
   "metadata": {
    "collapsed": false
   },
   "id": "30f1c54ace5504b5"
  },
  {
   "cell_type": "code",
   "execution_count": null,
   "outputs": [],
   "source": [
    "#time conversion\n",
    "#!/bin/python3\n",
    "\n",
    "import math\n",
    "import os\n",
    "import random\n",
    "import re\n",
    "import sys\n",
    "\n",
    "#\n",
    "# Complete the 'timeConversion' function below.\n",
    "#\n",
    "# The function is expected to return a STRING.\n",
    "# The function accepts STRING s as parameter.\n",
    "#\n",
    "\n",
    "def timeConversion(s):\n",
    "    if s[-2:] == 'AM':\n",
    "        if s[:2] == '12':\n",
    "            return '00' + s[2:-2]\n",
    "        else:\n",
    "            return s[:-2]\n",
    "    elif s[-2:] == 'PM':\n",
    "        if s[:2] == '12':\n",
    "            return s[:-2]\n",
    "        else:\n",
    "            return str(int(s[:2]) + 12) + s[2:-2]\n",
    "        \n",
    "    # Write your code here\n",
    "\n",
    "if __name__ == '__main__':\n",
    "    fptr = open(os.environ['OUTPUT_PATH'], 'w')\n",
    "\n",
    "    s = input()\n",
    "\n",
    "    result = timeConversion(s)\n"
   ],
   "metadata": {
    "collapsed": false
   },
   "id": "26d603f951b0d41f"
  },
  {
   "cell_type": "code",
   "execution_count": null,
   "outputs": [],
   "source": [
    "#save the prisoner\n",
    "\n",
    "in/python3\n",
    "\n",
    "import math\n",
    "import os\n",
    "import random\n",
    "import re\n",
    "import sys\n",
    "\n",
    "#\n",
    "# Complete the 'saveThePrisoner' function below.\n",
    "#\n",
    "# The function is expected to return an INTEGER.\n",
    "# The function accepts following parameters:\n",
    "#  1. INTEGER n\n",
    "#  2. INTEGER m\n",
    "#  3. INTEGER s\n",
    "#\n",
    "\n",
    "def saveThePrisoner(n, m, s):\n",
    "    last_candy_position = (s + m - 1) % n\n",
    "    if last_candy_position == 0:\n",
    "        return n\n",
    "    return last_candy_position\n",
    "    \n",
    "        \n",
    "        \n",
    "        \n",
    "    # Write your code here\n",
    "\n",
    "if __name__ == '__main__':\n",
    "    fptr = open(os.environ['OUTPUT_PATH'], 'w')\n",
    "\n",
    "    t = int(input().strip())\n",
    "\n",
    "    for t_itr in range(t):\n",
    "        first_multiple_input = input().rstrip().split()\n",
    "\n",
    "        n = int(first_multiple_input[0])\n",
    "\n",
    "        m = int(first_multiple_input[1])\n",
    "\n",
    "        s = int(first_multiple_input[2])\n",
    "\n",
    "        result = saveThePrisoner(n, m, s)\n",
    "\n",
    "        fptr.write(str(result) + '\\n')\n",
    "\n",
    "    fptr.close()\n"
   ],
   "metadata": {
    "collapsed": false
   },
   "id": "dda810f53405e64c"
  },
  {
   "cell_type": "code",
   "execution_count": null,
   "outputs": [],
   "source": [
    "#viral advertising\n",
    "\n",
    "\n",
    "import math\n",
    "import os\n",
    "import random\n",
    "import re\n",
    "import sys\n",
    "\n",
    "#\n",
    "# Complete the 'viralAdvertising' function below.\n",
    "#\n",
    "# The function is expected to return an INTEGER.\n",
    "# The function accepts INTEGER n as parameter.\n",
    "import math\n",
    "\n",
    "def viralAdvertising(n):\n",
    "    shared = 5\n",
    "    liked = 0\n",
    "    cumulative = 0\n",
    "    \n",
    "    for i in range(n):\n",
    "        liked_today = math.floor(shared / 2)\n",
    "        cumulative+= liked_today\n",
    "        shared = liked_today * 3\n",
    "\n",
    "    return cumulative\n",
    "\n",
    "if __name__ == '__main__':\n",
    "    fptr = open(os.environ['OUTPUT_PATH'], 'w')\n",
    "\n",
    "    n = int(input().strip())\n",
    "\n",
    "    result = viralAdvertising(n)\n",
    "\n",
    "    fptr.write(str(result) + '\\n')\n",
    "\n",
    "    fptr.close()\n"
   ],
   "metadata": {
    "collapsed": false
   },
   "id": "8b64150fd47964e5"
  },
  {
   "cell_type": "code",
   "execution_count": null,
   "outputs": [],
   "source": [
    "#number line jumps\n",
    "\n",
    "import math\n",
    "import os\n",
    "import random\n",
    "import re\n",
    "import sys\n",
    "\n",
    "#\n",
    "# Complete the 'kangaroo' function below.\n",
    "#\n",
    "# The function is expected to return a STRING.\n",
    "# The function accepts following parameters:\n",
    "#  1. INTEGER x1\n",
    "#  2. INTEGER v1\n",
    "#  3. INTEGER x2\n",
    "#  4. INTEGER v2\n",
    "#\n",
    "def kangaroo(x1, v1, x2, v2):\n",
    "    if v1 == v2:\n",
    "        if x1 == x2:\n",
    "            return 'YES'\n",
    "        else:\n",
    "            return 'NO'\n",
    "    \n",
    "    jumps = (x2 - x1) / (v1 - v2)\n",
    "    \n",
    "    if jumps.is_integer() and jumps >= 0:\n",
    "        return 'YES'\n",
    "    else:\n",
    "        return 'NO'\n",
    "if __name__ == '__main__':\n",
    "    fptr = open(os.environ['OUTPUT_PATH'], 'w')\n",
    "\n",
    "    first_multiple_input = input().rstrip().split()\n",
    "\n",
    "    x1 = int(first_multiple_input[0])\n",
    "\n",
    "    v1 = int(first_multiple_input[1])\n",
    "\n",
    "    x2 = int(first_multiple_input[2])\n",
    "\n",
    "    v2 = int(first_multiple_input[3])\n",
    "\n",
    "    result = kangaroo(x1, v1, x2, v2)\n",
    "\n",
    "    fptr.write(result + '\\n')\n",
    "\n",
    "    fptr.close()\n"
   ],
   "metadata": {
    "collapsed": false
   },
   "id": "880b84fd69c75207"
  },
  {
   "cell_type": "code",
   "execution_count": null,
   "outputs": [],
   "source": [
    "#set union operatiom\n",
    "# Enter your code here. Read input from STDIN. Print output to STDOUT\n",
    "n = int(input())\n",
    "l1 = set(map(int, input().split()))\n",
    "m = int(input())\n",
    "l2 = set(map(int, input().split()))\n",
    "z = l2.union(l1)\n",
    "print(len(z))\n"
   ],
   "metadata": {
    "collapsed": false
   },
   "id": "ae27de0887d198da"
  },
  {
   "cell_type": "code",
   "execution_count": null,
   "outputs": [],
   "source": [
    "#company logo\n",
    "#!/bin/python3\n",
    "\n",
    "import math\n",
    "import os\n",
    "import random\n",
    "import re\n",
    "import sys\n",
    "\n",
    "\n",
    "\n",
    "from collections import Counter\n",
    "\n",
    "\n",
    "if __name__ == '__main__':\n",
    "    s = input()\n",
    "    \n",
    "    char_count = Counter(s)\n",
    "    sorted_chars = sorted(char_count.items(), key=lambda x: (-x[1], x[0]))\n",
    "\n",
    "    for char, count in sorted_chars[:3]:\n",
    "        print(char, count)\n",
    "    \n",
    "\n",
    "\n"
   ],
   "metadata": {
    "collapsed": false
   },
   "id": "b909a98664d10320"
  },
  {
   "cell_type": "code",
   "execution_count": null,
   "outputs": [],
   "source": [
    "#recursive digit sum\n",
    "#!/bin/python3\n",
    "\n",
    "import math\n",
    "import os\n",
    "import random\n",
    "import re\n",
    "import sys\n",
    "\n",
    "#\n",
    "# Complete the 'superDigit' function below.\n",
    "#\n",
    "# The function is expected to return an INTEGER.\n",
    "# The function accepts following parameters:\n",
    "#  1. STRING n\n",
    "#  2. INTEGER k#\n",
    "\n",
    "def superDigit(n, k):\n",
    "    z = []\n",
    " \n",
    "    \n",
    "    ok = sum(int(digit) for digit in str(n) )* k\n",
    "    \n",
    "    while ok > 10:\n",
    "        ok = sum(int(digit) for digit in str(ok))\n",
    "    \n",
    "    \n",
    "    return ok\n",
    "\n",
    "\n",
    "if __name__ == '__main__':\n",
    "    fptr = open(os.environ['OUTPUT_PATH'], 'w')\n",
    "\n",
    "    first_multiple_input = input().rstrip().split()\n",
    "\n",
    "    n = first_multiple_input[0]\n",
    "\n",
    "    k = int(first_multiple_input[1])\n",
    "\n",
    "    result = superDigit(n, k)\n",
    "\n",
    "    fptr.write(str(result) + '\\n')\n",
    "\n",
    "    fptr.close()\n"
   ],
   "metadata": {
    "collapsed": false
   },
   "id": "4fcfff170d034033"
  },
  {
   "cell_type": "code",
   "execution_count": null,
   "outputs": [],
   "source": [
    "#hello world\n",
    "print(\"Hello, World!\")\n"
   ],
   "metadata": {
    "collapsed": false
   },
   "id": "8feadb350444c20b"
  },
  {
   "cell_type": "code",
   "execution_count": null,
   "outputs": [],
   "source": [
    "#split and join\n",
    "def split_and_join(line):\n",
    "    linelist = line.split(\" \")\n",
    "    z = (\"-\").join(linelist)\n",
    "    return z\n",
    "    # write your code here\n",
    "\n"
   ],
   "metadata": {
    "collapsed": false
   },
   "id": "8f18892cfe381ae5"
  },
  {
   "cell_type": "code",
   "execution_count": null,
   "outputs": [],
   "source": [
    "#lists\n",
    "if __name__ == '__main__':\n",
    "    N = int(input())\n",
    "    list1 = []\n",
    "\n",
    "    for _ in range(N):\n",
    "        cmd = input().split(\" \")\n",
    "\n",
    "        if cmd[0] == 'insert':\n",
    "            list1.insert(int(cmd[1]), int(cmd[2]))\n",
    "        elif cmd[0] == 'append':\n",
    "            list1.append(int(cmd[1]))\n",
    "        elif cmd[0] == 'pop':\n",
    "            list1.pop()\n",
    "        elif cmd[0] == 'print':\n",
    "            print(list1)\n",
    "        elif cmd[0] == 'remove':\n",
    "            if int(cmd[1]) in list1:\n",
    "                list1.remove(int(cmd[1]))\n",
    "            else:\n",
    "                continue\n",
    "        elif cmd[0] == 'reverse':\n",
    "            list1.reverse()\n",
    "        elif cmd[0] == 'sort':\n",
    "            list1.sort()\n",
    "            \n"
   ],
   "metadata": {
    "collapsed": false
   },
   "id": "ddb3289f0a783860"
  },
  {
   "cell_type": "code",
   "execution_count": null,
   "outputs": [],
   "source": [
    "#insert sort\n",
    "\n",
    "import math\n",
    "import os\n",
    "import random\n",
    "import re\n",
    "import sys\n",
    "\n",
    "#\n",
    "# Complete the 'insertionSort2' function below.\n",
    "#\n",
    "# The function accepts following parameters:\n",
    "#  1. INTEGER n\n",
    "#  2. INTEGER_ARRAY arr\n",
    "#\n",
    "\n",
    "def insertionSort2(n, arr):\n",
    "    for j in range(1, len(arr)):\n",
    "        for i in range(j):\n",
    "            if arr[j] < arr[i]:\n",
    "                temp = arr[j]\n",
    "                arr[j] = arr[i]\n",
    "                arr[i] = temp\n",
    "        print(' '.join(map(str, arr)))\n",
    "if __name__ == '__main__':\n",
    "    n = int(input().strip())\n",
    "\n",
    "    arr = list(map(int, input().rstrip().split()))\n",
    "\n",
    "    insertionSort2(n, arr)\n"
   ],
   "metadata": {
    "collapsed": false
   },
   "id": "75fb0fb64a3a8446"
  }
 ],
 "metadata": {
  "kernelspec": {
   "display_name": "Python 3",
   "language": "python",
   "name": "python3"
  },
  "language_info": {
   "codemirror_mode": {
    "name": "ipython",
    "version": 2
   },
   "file_extension": ".py",
   "mimetype": "text/x-python",
   "name": "python",
   "nbconvert_exporter": "python",
   "pygments_lexer": "ipython2",
   "version": "2.7.6"
  }
 },
 "nbformat": 4,
 "nbformat_minor": 5
}
